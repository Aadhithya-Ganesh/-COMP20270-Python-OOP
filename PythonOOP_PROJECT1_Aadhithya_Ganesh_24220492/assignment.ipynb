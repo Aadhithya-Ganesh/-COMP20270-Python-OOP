{
 "cells": [
  {
   "cell_type": "code",
   "execution_count": 17,
   "metadata": {},
   "outputs": [],
   "source": [
    "import matplotlib.pyplot as plot"
   ]
  },
  {
   "cell_type": "markdown",
   "metadata": {},
   "source": [
    "Book Class\n",
    "\n",
    "1. 4 instance variables. title, author, year, genres = []\n",
    "2. __str__, __repr__, __eq__ methods"
   ]
  },
  {
   "cell_type": "code",
   "execution_count": 18,
   "metadata": {},
   "outputs": [],
   "source": [
    "class Book:\n",
    "    # Create a book.\n",
    "    def __init__(self, title, author, year, genres):\n",
    "        self.title = title\n",
    "        self.author = author\n",
    "        self.year = year\n",
    "        self.genres = genres\n",
    "\n",
    "    def __str__(self):\n",
    "        return \"Title: \" + self.title + \", Author: \" + self.author + \", Year: \" + str(self.year) + \", Genres: \" + str(self.genres)\n",
    "\n",
    "    def __repr__(self):\n",
    "        return \"Title: \" + self.title + \", Author: \" + self.author + \", Year: \" + str(self.year) + \", Genres: \" + str(self.genres) + \"\\n\"\n",
    "    \n",
    "    def __eq__(self, other):\n",
    "        if self.title == other.title and self.author == other.author and self.year == other.year and self.genres == other.genres:\n",
    "            return True\n",
    "        else:\n",
    "            return False"
   ]
  },
  {
   "cell_type": "markdown",
   "metadata": {},
   "source": [
    "Implementation of book class\n",
    "\n",
    "1. Created 5 books\n",
    "2. Wrote them to a file\n",
    "3. Read them from the file and displayed them"
   ]
  },
  {
   "cell_type": "code",
   "execution_count": 19,
   "metadata": {},
   "outputs": [
    {
     "name": "stdout",
     "output_type": "stream",
     "text": [
      "[Title: The Hobbit, Author: J.R.R. Tolkien, Year: 1937, Genres: ['Fantasy', 'Adventure']\n",
      ", Title: 1984, Author: George Orwell, Year: 1949, Genres: ['Dystopian', 'Political Fiction']\n",
      ", Title: The Fellowship of the Ring, Author: J.R.R. Tolkien, Year: 1954, Genres: ['Fantasy', 'Adventure']\n",
      ", Title: To Kill a Mockingbird, Author: Harper Lee, Year: 1960, Genres: ['Fiction', 'Social Justice']\n",
      ", Title: Brave New World, Author: Aldous Huxley, Year: 1932, Genres: ['Dystopian', 'Science Fiction']\n",
      "]\n"
     ]
    }
   ],
   "source": [
    "file = open(\"books.txt\", \"w\")\n",
    "books = []\n",
    "\n",
    "# Manually create 5 books \n",
    "books.append(Book(\"The Hobbit\", \"J.R.R. Tolkien\", 1937, [\"Fantasy\", \"Adventure\"]))\n",
    "books.append(Book(\"1984\", \"George Orwell\", 1949, [\"Dystopian\", \"Political Fiction\"]))\n",
    "books.append(Book(\"The Fellowship of the Ring\", \"J.R.R. Tolkien\", 1954, [\"Fantasy\", \"Adventure\"]))\n",
    "books.append(Book(\"To Kill a Mockingbird\", \"Harper Lee\", 1960, [\"Fiction\", \"Social Justice\"]))\n",
    "books.append(Book(\"Brave New World\", \"Aldous Huxley\", 1932, [\"Dystopian\", \"Science Fiction\"]))\n",
    "\n",
    "# Add them to the file\n",
    "for book in books:\n",
    "    string = book.title + \", \" + book.author + \", \" + str(book.year) + \", \" + \"[\"\n",
    "    for genre in book.genres:\n",
    "        string+=genre + \", \"\n",
    "    \n",
    "    string = string[:-2]\n",
    "    string+=\"]\\n\"\n",
    "    file.write(string)\n",
    "\n",
    "file.close()\n",
    "\n",
    "file = open(\"books.txt\", \"r\")\n",
    "\n",
    "# Read them from the file \n",
    "def load_from_file_line(line):\n",
    "    elements = line.split(\",\", 3)\n",
    "    genres = elements[3].strip()[1:-1].split(\",\")\n",
    "    for i in range(len(genres)):\n",
    "        genres[i] = genres[i].strip()\n",
    "\n",
    "    return Book(elements[0].strip(), elements[1].strip(), int(elements[2].strip()), genres)\n",
    "\n",
    "booksFromfile = []\n",
    "\n",
    "# Get the books read from file\n",
    "for line in file:\n",
    "    book = load_from_file_line(line)\n",
    "    booksFromfile.append(book)\n",
    "\n",
    "file.close()\n",
    "\n",
    "# Print the books\n",
    "print(booksFromfile)\n"
   ]
  },
  {
   "cell_type": "markdown",
   "metadata": {},
   "source": [
    "Library class \n",
    "\n",
    "1. 1 instance variable. Library has books. So used composition. Books is a list\n",
    "2. 10 methods:\n",
    "    1. add_book - Adding a book\n",
    "    2. load_books_from_file - Loading books from the file\n",
    "    3. save_books_to_file - Saving it back to the file\n",
    "    4. remove_book_by_title - Removing a book\n",
    "    5. update_book - Update a book\n",
    "    6. find_books - find the list of books\n",
    "    7. get_book_counts_by_author - gets the count of books that are written by authors\n",
    "    8. find_most_published_author - Most pushlished author and their books\n",
    "    9. suggest_similar_books - similar books by author match and genre match\n",
    "    10. suggest_similar_books_by_genres - similar books sorted by genre matched\n",
    "3. __repr__ method"
   ]
  },
  {
   "cell_type": "code",
   "execution_count": 20,
   "metadata": {},
   "outputs": [],
   "source": [
    "class Library:\n",
    "    # Library has a list of books, empty at first\n",
    "    def __init__(self):\n",
    "        self.Books = []\n",
    "\n",
    "    # Method to add a book into the library\n",
    "    def add_book(self, book):\n",
    "        print(\"---Adding a new book to the library---\")\n",
    "        self.Books.append(book)\n",
    "        print(\"Book with the info \" + book.__str__() + \" successfully added to the library\\n\")\n",
    "\n",
    "    # Method to load a list of books into the library from a file\n",
    "    def load_books_from_file(self, file):\n",
    "        print(\"---Loading book from a file---\")\n",
    "        fileHandle = open(file, \"r\")\n",
    "\n",
    "        for line in fileHandle:\n",
    "            elements = line.split(\",\", 3)\n",
    "            genres = elements[3].strip()[1:-1].split(\",\")\n",
    "            for i in range(len(genres)):\n",
    "                genres[i] = genres[i].strip()\n",
    "\n",
    "            self.Books.append(Book(elements[0].strip(), elements[1].strip(), int(elements[2].strip()), genres))\n",
    "        \n",
    "        print(\"Books loaded from the file\\n\")\n",
    "\n",
    "    # Method to save any the list of books into the file\n",
    "    def save_books_to_file(self, file):\n",
    "        print(\"---Saving books to file---\")\n",
    "        fileHandle = open(file, \"w\")\n",
    "        string = \"\"\n",
    "        for book in self.Books:\n",
    "            string+= book.title + \", \" + book.author + \", \" + str(book.year) + \", \" + \"[\"\n",
    "            for genre in book.genres:\n",
    "                string+=genre + \", \"\n",
    "            \n",
    "            string = string[:-2]\n",
    "            string+=\"]\\n\"\n",
    "        fileHandle.write(string)\n",
    "        print(\"Books saved to the file\\n\")\n",
    "\n",
    "    # Method to remove a book from the library\n",
    "    def remove_book_by_title(self, title):\n",
    "        print(\"---Removing a book from the library---\")\n",
    "        for i in range(len(self.Books)):\n",
    "            if self.Books[i].title == title:\n",
    "                self.Books.pop(i)\n",
    "                print(\"Book with the title \" + title + \" is removed from the library\\n\")\n",
    "                break\n",
    "        else:\n",
    "            print(\"Book not found\\n\")\n",
    "\n",
    "    # Method to update the details of a book. Assumed the title to be the primary key here and its cannot be changed\n",
    "    def update_book(self, title, new_author = None, new_year = None, new_genres = None):\n",
    "        print(\"---Updating a book in the library---\")\n",
    "        for i in range(len(self.Books)):\n",
    "            if self.Books[i].title == title:\n",
    "                if new_author != None : self.Books[i].author = new_author\n",
    "                if new_year != None : self.Books[i].year = new_year\n",
    "                if new_genres != None : self.Books[i].genres = new_genres\n",
    "                print(\"Book with the title \" + title + \" is updated\\n\")\n",
    "                break\n",
    "        else:\n",
    "            print(\"Book not found\\n\")\n",
    "\n",
    "    # Method to find list of books\n",
    "    def find_books(self, title = None, author = None, year = None, genre = None):\n",
    "        print(\"---Searching for the specified book in the library---\")\n",
    "        foundBooks = []\n",
    "        for book in self.Books:\n",
    "            if (title != None and book.title == title) or (author != None and book.author == author) or (year != None and book.year == year) or (genre != None and book.genre == genre):\n",
    "                foundBooks.append(book)\n",
    "\n",
    "        if len(foundBooks) == 0 : return \"No books found\\n\" \n",
    "        else : return foundBooks\n",
    "\n",
    "    # Method to get the count of books by the author who wrote it\n",
    "    def get_book_counts_by_author(self):\n",
    "        print(\"\\n---Getting the books count by authors---\")\n",
    "        author_counts = {}\n",
    "        for book in self.Books:\n",
    "            if book.author not in author_counts:\n",
    "                author_counts[book.author] = 1\n",
    "            else:\n",
    "                author_counts[book.author]+=1\n",
    "\n",
    "        return author_counts\n",
    "    \n",
    "    # Method to find the most pushlished author\n",
    "    def find_most_published_author(self):\n",
    "        author_count = self.get_book_counts_by_author()\n",
    "        highest = []\n",
    "        for keys, values in author_count.items():\n",
    "            if values == max(author_count.values()):\n",
    "                highest.append((keys, values))\n",
    "        \n",
    "        print(\"Highest published authors : \", highest)\n",
    "\n",
    "        for author, count in highest:\n",
    "            string = \"\\nBooks Published by \" + author + \"\\n\" \n",
    "            for book in self.Books:\n",
    "                if book.author == author:\n",
    "                    string+=book.title + \"\\n\"\n",
    "            print(string)\n",
    "\n",
    "    # Method to suggest similar books. This method will first suggest based on author match and then by genre match\n",
    "    def suggest_similar_books(self, book_name):\n",
    "        print(\"---Suggesting similar books---\")\n",
    "        for book in self.Books:\n",
    "            if (book_name != None and book.title.lower() == book_name.lower()):\n",
    "                givenBook = book\n",
    "\n",
    "        similarBooks = []\n",
    "\n",
    "        for book in self.Books:\n",
    "            if givenBook != book:\n",
    "                for genre in givenBook.genres:\n",
    "                    if genre in book.genres and book not in similarBooks:\n",
    "                        similarBooks.append(book)\n",
    "                        break\n",
    "                    \n",
    "        if len(similarBooks) == 0 : return \"No similar books found\"\n",
    "        else : return similarBooks\n",
    "\n",
    "    # Method to suggest similar books. This method only gives suggestions based on the number of genres that are matching with another book\n",
    "    def suggest_similar_books_by_genres(self, book_name):\n",
    "        print(\"---Suggesting similar books---\")\n",
    "        for book in self.Books:\n",
    "            if (book_name != None and book.title.lower() == book_name.lower()):\n",
    "                givenBook = book\n",
    "\n",
    "        similarBooks = []\n",
    "\n",
    "        result = {}\n",
    "        for book in self.Books:\n",
    "            if givenBook != book:\n",
    "                for genre in givenBook.genres:\n",
    "                    if genre in book.genres:\n",
    "                        if book.title not in result:\n",
    "                            result[book.title] = 1\n",
    "                        else:\n",
    "                            result[book.title]+=1\n",
    "\n",
    "        result = list(result.items())\n",
    "        result.sort(key=lambda item: item[1], reverse=True)\n",
    "        \n",
    "        return result\n",
    "     \n",
    "    def __str__(self):\n",
    "        if len(self.Books) == 0:\n",
    "            return \"The library is empty\"\n",
    "        else:\n",
    "            return \"---------Books in the library--------\\n\" + self.Books.__repr__() + \"\\n\""
   ]
  },
  {
   "cell_type": "markdown",
   "metadata": {},
   "source": [
    "Creating a library"
   ]
  },
  {
   "cell_type": "code",
   "execution_count": 21,
   "metadata": {},
   "outputs": [
    {
     "name": "stdout",
     "output_type": "stream",
     "text": [
      "The library is empty\n"
     ]
    }
   ],
   "source": [
    "# Creating a library\n",
    "library = Library()\n",
    "\n",
    "# Checking that the library is empty\n",
    "print(library)"
   ]
  },
  {
   "cell_type": "markdown",
   "metadata": {},
   "source": [
    "Adding a new book to the library"
   ]
  },
  {
   "cell_type": "code",
   "execution_count": 22,
   "metadata": {},
   "outputs": [
    {
     "name": "stdout",
     "output_type": "stream",
     "text": [
      "---Adding a new book to the library---\n",
      "Book with the info Title: Harry Potter, Author: J.k Rowling, Year: 2001, Genres: ['Adventure', 'Magic'] successfully added to the library\n",
      "\n",
      "---------Books in the library--------\n",
      "[Title: Harry Potter, Author: J.k Rowling, Year: 2001, Genres: ['Adventure', 'Magic']\n",
      "]\n",
      "\n"
     ]
    }
   ],
   "source": [
    "# Adding a new book to the library\n",
    "library.add_book(Book('Harry Potter', 'J.k Rowling', 2001, ['Adventure', 'Magic']))\n",
    "\n",
    "# Checking that the book got added\n",
    "print(library)"
   ]
  },
  {
   "cell_type": "markdown",
   "metadata": {},
   "source": [
    "Loading books from a file"
   ]
  },
  {
   "cell_type": "code",
   "execution_count": 23,
   "metadata": {},
   "outputs": [
    {
     "name": "stdout",
     "output_type": "stream",
     "text": [
      "---Loading book from a file---\n",
      "Books loaded from the file\n",
      "\n",
      "---------Books in the library--------\n",
      "[Title: Harry Potter, Author: J.k Rowling, Year: 2001, Genres: ['Adventure', 'Magic']\n",
      ", Title: The Hobbit, Author: J.R.R. Tolkien, Year: 1937, Genres: ['Fantasy', 'Adventure']\n",
      ", Title: 1984, Author: George Orwell, Year: 1949, Genres: ['Dystopian', 'Political Fiction']\n",
      ", Title: The Fellowship of the Ring, Author: J.R.R. Tolkien, Year: 1954, Genres: ['Fantasy', 'Adventure']\n",
      ", Title: To Kill a Mockingbird, Author: Harper Lee, Year: 1960, Genres: ['Fiction', 'Social Justice']\n",
      ", Title: Brave New World, Author: Aldous Huxley, Year: 1932, Genres: ['Dystopian', 'Science Fiction']\n",
      "]\n",
      "\n"
     ]
    }
   ],
   "source": [
    "# Loading books from a file\n",
    "library.load_books_from_file(\"books.txt\")\n",
    "\n",
    "# Checking books for added\n",
    "print(library)"
   ]
  },
  {
   "cell_type": "markdown",
   "metadata": {},
   "source": [
    "Removing a book"
   ]
  },
  {
   "cell_type": "code",
   "execution_count": 24,
   "metadata": {},
   "outputs": [
    {
     "name": "stdout",
     "output_type": "stream",
     "text": [
      "---Removing a book from the library---\n",
      "Book with the title To Kill a Mockingbird is removed from the library\n",
      "\n",
      "---------Books in the library--------\n",
      "[Title: Harry Potter, Author: J.k Rowling, Year: 2001, Genres: ['Adventure', 'Magic']\n",
      ", Title: The Hobbit, Author: J.R.R. Tolkien, Year: 1937, Genres: ['Fantasy', 'Adventure']\n",
      ", Title: 1984, Author: George Orwell, Year: 1949, Genres: ['Dystopian', 'Political Fiction']\n",
      ", Title: The Fellowship of the Ring, Author: J.R.R. Tolkien, Year: 1954, Genres: ['Fantasy', 'Adventure']\n",
      ", Title: Brave New World, Author: Aldous Huxley, Year: 1932, Genres: ['Dystopian', 'Science Fiction']\n",
      "]\n",
      "\n"
     ]
    }
   ],
   "source": [
    "# Removing a book\n",
    "library.remove_book_by_title(\"To Kill a Mockingbird\")\n",
    "\n",
    "# Checking if the book got deleted\n",
    "print(library)"
   ]
  },
  {
   "cell_type": "markdown",
   "metadata": {},
   "source": [
    "Updating a book"
   ]
  },
  {
   "cell_type": "code",
   "execution_count": 25,
   "metadata": {},
   "outputs": [
    {
     "name": "stdout",
     "output_type": "stream",
     "text": [
      "---Updating a book in the library---\n",
      "Book with the title Harry Potter is updated\n",
      "\n",
      "---------Books in the library--------\n",
      "[Title: Harry Potter, Author: Aadhithya, Year: 2024, Genres: ['Adventure', 'Magic']\n",
      ", Title: The Hobbit, Author: J.R.R. Tolkien, Year: 1937, Genres: ['Fantasy', 'Adventure']\n",
      ", Title: 1984, Author: George Orwell, Year: 1949, Genres: ['Dystopian', 'Political Fiction']\n",
      ", Title: The Fellowship of the Ring, Author: J.R.R. Tolkien, Year: 1954, Genres: ['Fantasy', 'Adventure']\n",
      ", Title: Brave New World, Author: Aldous Huxley, Year: 1932, Genres: ['Dystopian', 'Science Fiction']\n",
      "]\n",
      "\n"
     ]
    }
   ],
   "source": [
    "# Updating a book\n",
    "library.update_book(\"Harry Potter\", new_author=\"Aadhithya\", new_year = 2024)\n",
    "\n",
    "# Proving the book got updated\n",
    "print(library)"
   ]
  },
  {
   "cell_type": "markdown",
   "metadata": {},
   "source": [
    "Saving the data back to the file. File serves like a database in this situation"
   ]
  },
  {
   "cell_type": "code",
   "execution_count": 26,
   "metadata": {},
   "outputs": [
    {
     "name": "stdout",
     "output_type": "stream",
     "text": [
      "---Saving books to file---\n",
      "Books saved to the file\n",
      "\n"
     ]
    }
   ],
   "source": [
    "# Saving the data back to the file. File serves like a database in this situation\n",
    "library.save_books_to_file(\"books.txt\")"
   ]
  },
  {
   "cell_type": "markdown",
   "metadata": {},
   "source": [
    "Searching for a book"
   ]
  },
  {
   "cell_type": "code",
   "execution_count": 27,
   "metadata": {},
   "outputs": [
    {
     "name": "stdout",
     "output_type": "stream",
     "text": [
      "---Searching for the specified book in the library---\n",
      "[Title: The Hobbit, Author: J.R.R. Tolkien, Year: 1937, Genres: ['Fantasy', 'Adventure']\n",
      "]\n"
     ]
    }
   ],
   "source": [
    "# Searching for a book\n",
    "print(library.find_books(title = \"The Hobbit\"))"
   ]
  },
  {
   "cell_type": "markdown",
   "metadata": {},
   "source": [
    "Getting the books count by authos"
   ]
  },
  {
   "cell_type": "code",
   "execution_count": 28,
   "metadata": {},
   "outputs": [
    {
     "name": "stdout",
     "output_type": "stream",
     "text": [
      "\n",
      "---Getting the books count by authors---\n",
      "{'Aadhithya': 1, 'J.R.R. Tolkien': 2, 'George Orwell': 1, 'Aldous Huxley': 1}\n"
     ]
    }
   ],
   "source": [
    "# Getting the books count by authos\n",
    "print(library.get_book_counts_by_author())"
   ]
  },
  {
   "cell_type": "markdown",
   "metadata": {},
   "source": [
    "A bar chart showing the number of books written by each author\n",
    "refered this documentation : https://matplotlib.org/stable/gallery/lines_bars_and_markers/bar_colors.html#sphx-glr-gallery-lines-bars-and-markers-bar-colors-py\n"
   ]
  },
  {
   "cell_type": "code",
   "execution_count": 29,
   "metadata": {},
   "outputs": [
    {
     "name": "stdout",
     "output_type": "stream",
     "text": [
      "\n",
      "---Getting the books count by authors---\n"
     ]
    },
    {
     "data": {
      "image/png": "[encoded data removed]",
      "text/plain": [
       "<Figure size 640x480 with 1 Axes>"
      ]
     },
     "metadata": {},
     "output_type": "display_data"
    }
   ],
   "source": [
    "counts = library.get_book_counts_by_author()\n",
    "fig, ax = plot.subplots()\n",
    "\n",
    "authors = counts.keys()\n",
    "counts = counts.values()\n",
    "ax.bar(authors, counts, color = 'red')\n",
    "\n",
    "ax.set_xlabel(\"Author\")\n",
    "ax.set_ylabel(\"Number of books published\")\n",
    "ax.set_title(\"Books count by author\")\n",
    "\n",
    "plot.show()"
   ]
  },
  {
   "cell_type": "markdown",
   "metadata": {},
   "source": [
    "Gives the highest pushlished author and their books. If there are 2 authors with the same count, All of them will be printed"
   ]
  },
  {
   "cell_type": "code",
   "execution_count": 30,
   "metadata": {},
   "outputs": [
    {
     "name": "stdout",
     "output_type": "stream",
     "text": [
      "\n",
      "---Getting the books count by authors---\n",
      "Highest published authors :  [('J.R.R. Tolkien', 2)]\n",
      "\n",
      "Books Published by J.R.R. Tolkien\n",
      "The Hobbit\n",
      "The Fellowship of the Ring\n",
      "\n"
     ]
    }
   ],
   "source": [
    "# Gives the highest pushlished author and their books. If there are 2 authors with the same count, All of them will be printed\n",
    "library.find_most_published_author()"
   ]
  },
  {
   "cell_type": "markdown",
   "metadata": {},
   "source": [
    "Suggest similar books. First based on author and then based on genres"
   ]
  },
  {
   "cell_type": "code",
   "execution_count": 31,
   "metadata": {},
   "outputs": [
    {
     "name": "stdout",
     "output_type": "stream",
     "text": [
      "---Suggesting similar books---\n",
      "[Title: Harry Potter, Author: Aadhithya, Year: 2024, Genres: ['Adventure', 'Magic']\n",
      ", Title: The Fellowship of the Ring, Author: J.R.R. Tolkien, Year: 1954, Genres: ['Fantasy', 'Adventure']\n",
      "]\n"
     ]
    }
   ],
   "source": [
    "# Suggest similar books. First based on author and then based on genres\n",
    "suggestions = library.suggest_similar_books(\"The hobbit\")\n",
    "\n",
    "print(suggestions)"
   ]
  },
  {
   "cell_type": "markdown",
   "metadata": {},
   "source": [
    "Suggest similar books based on the number of genres matched"
   ]
  },
  {
   "cell_type": "code",
   "execution_count": 32,
   "metadata": {},
   "outputs": [
    {
     "name": "stdout",
     "output_type": "stream",
     "text": [
      "---Suggesting similar books---\n",
      "The Fellowship of the Ring is similar to the book you searched with 2 genre matched\n",
      "Harry Potter is similar to the book you searched with 1 genre matched\n"
     ]
    }
   ],
   "source": [
    "# Suggest similar books based on the number of genres matched\n",
    "suggestions = library.suggest_similar_books_by_genres(\"The hobbit\")\n",
    "\n",
    "for book, genresMatch in suggestions:\n",
    "    print(book + \" is similar to the book you searched with \" + str(genresMatch) + \" genre matched\")"
   ]
  }
 ],
 "metadata": {
  "kernelspec": {
   "display_name": "Python 3",
   "language": "python",
   "name": "python3"
  },
  "language_info": {
   "codemirror_mode": {
    "name": "ipython",
    "version": 3
   },
   "file_extension": ".py",
   "mimetype": "text/x-python",
   "name": "python",
   "nbconvert_exporter": "python",
   "pygments_lexer": "ipython3",
   "version": "3.10.4"
  }
 },
 "nbformat": 4,
 "nbformat_minor": 2
}
